{
 "cells": [
  {
   "cell_type": "markdown",
   "id": "b47df844-f24d-4744-83d8-c62bbe5011c4",
   "metadata": {},
   "source": [
    "1. What are the two values of the Boolean data type? How do you write them?\n",
    "\n",
    "   Answer: True and False\n",
    "\n",
    "2. What are the three different types of Boolean operators\n",
    "\n",
    "    Answer: and (&&) , or(||) , not"
   ]
  },
  {
   "cell_type": "markdown",
   "id": "2110ea1b-ee83-44cf-a678-4526d000f3a4",
   "metadata": {},
   "source": [
    "3. Make a list of each Boolean operator's truth tables (i.e. every possible combination of Boolean values for the operator and what it evaluate\n",
    "   \n",
    "    Answer: [{'and':{'[1,1]': 1,'[1,0]': 0,'[0,1]': 0,'[0,0]': 0}}, {'or':{'[1,1]':1,'[1,0]':1,'[0,1]':1,'[0,0]':0}}]).\n",
    "\n",
    "4. What are the values of the following expressions?\n",
    "   \n",
    "    Answer:\n",
    "    (5 > 4) and (3 == 5) False\n",
    "\n",
    "    not (5 > 4) False\n",
    "\n",
    "    (5 > 4) or (3  == 5) True\n",
    "\n",
    "    not ((5 > 4) or (3 == 5)) False\n",
    "\n",
    "    (True and True) and (True == False) False\n",
    "\n",
    "    (not False) or (not True)) True\n",
    "\n",
    "5. What are the six comparison operators?\n",
    "   \n",
    "    Answer: ==, !=, >, < ,>=,<=\n",
    "\n",
    "6. How do you tell the difference between the equal to and assignment  operators?Describe a condition and when you wou\n",
    "    \n",
    "    Answer: equal to(==) is used to check some condition whereas assignment operator is used to evaluate and assign values to the target. \n",
    "    Where we need to check condition we can use equal to(==) and when we need to assign values to target we can use assignment operatorld use one.\n",
    "\n",
    "7. Identify the three blocks in this code:\n",
    "spam = 0\n",
    "if spam == 10:\n",
    "    print('eggs')\n",
    "if spam > 5:\n",
    "    print('bacon')\n",
    "else:\n",
    "    print('ham')\n",
    "    print('spam')\n",
    "    print('spam')\n",
    "\n",
    "    Answer: it will execute the last block of code in else statement.\n",
    "    output will be ham, \\n, spam, \\n , spam\n",
    "\n",
    "8. Write code that prints Hello if 1 is stored in spam, prints Howdy if 2 is stored in spam, and prints Greetings! if anything else?\n",
    "\n"
   ]
  },
  {
   "cell_type": "code",
   "execution_count": 2,
   "id": "bd3fb739-64a8-4159-b920-73b929d0bc36",
   "metadata": {},
   "outputs": [
    {
     "name": "stdout",
     "output_type": "stream",
     "text": [
      "Greetings!\n"
     ]
    }
   ],
   "source": [
    "spam = 0\n",
    "if spam == 1:\n",
    "    print('Hello')\n",
    "if spam == 2:\n",
    "    print('Howdy')\n",
    "else:\n",
    "    print('Greetings!')"
   ]
  },
  {
   "cell_type": "markdown",
   "id": "6352845c-cce0-4311-a624-55adfe29fc85",
   "metadata": {},
   "source": [
    "9.If your programme is stuck in an endless loop, what keys you’ll press?\n",
    "Answer:\n",
    "10. How can you tell the difference between break and continue?\n",
    "Answer: when a certain condition is met break keyword will stop the execution of any loop and come out of it, whereas continue will not execute the \n",
    "codeblock written after that and come to the start statement of the loop\n",
    "\n"
   ]
  },
  {
   "cell_type": "code",
   "execution_count": 3,
   "id": "2634cff7-330b-4878-a3cd-c42247d9bf87",
   "metadata": {},
   "outputs": [
    {
     "name": "stdout",
     "output_type": "stream",
     "text": [
      "0\n",
      "1\n",
      "2\n",
      "3\n",
      "4\n",
      "Continue statement\n",
      "6\n",
      "7\n",
      "Break Statement\n"
     ]
    }
   ],
   "source": [
    "i = 0\n",
    "while i<10:\n",
    "    if i==8:\n",
    "        print(\"Break Statement\")\n",
    "        break        \n",
    "    elif i == 5:\n",
    "        i +=1\n",
    "        print(\"Continue statement\")\n",
    "        continue\n",
    "        print(\"This wont get printed\")\n",
    "    else:\n",
    "        print(i)\n",
    "        i +=1"
   ]
  },
  {
   "cell_type": "code",
   "execution_count": 4,
   "id": "d71410ac-f437-4b0b-80aa-eb49d137bd85",
   "metadata": {},
   "outputs": [
    {
     "data": {
      "text/plain": [
       "([0, 1, 2, 3, 4, 5, 6, 7, 8, 9],\n",
       " [1, 2, 3, 4, 5, 6, 7, 8, 9],\n",
       " [0, 1, 2, 3, 4, 5, 6, 7, 8, 9],\n",
       " [0, 2, 4, 6, 8])"
      ]
     },
     "execution_count": 4,
     "metadata": {},
     "output_type": "execute_result"
    }
   ],
   "source": [
    "# 11. In a for loop, what is the difference between range(10), range(0, 10), and range(0, 10, 1)?\n",
    "# range(10) will start from 0\n",
    "# range(1,10) will start from 1\n",
    "# range(0,10,1) with start from 0 and with increment step =1 \n",
    "list(range(10)), list(range(1,10)), list(range(0,10,1)), list(range(0,10,2))"
   ]
  },
  {
   "cell_type": "code",
   "execution_count": 5,
   "id": "db22e147-4754-488b-91f0-361c25a9e3b2",
   "metadata": {},
   "outputs": [
    {
     "name": "stdout",
     "output_type": "stream",
     "text": [
      "1\n",
      "2\n",
      "3\n",
      "4\n",
      "5\n",
      "6\n",
      "7\n",
      "8\n",
      "9\n",
      "10\n",
      "1\n",
      "2\n",
      "3\n",
      "4\n",
      "5\n",
      "6\n",
      "7\n",
      "8\n",
      "9\n",
      "10\n"
     ]
    }
   ],
   "source": [
    "#12. Write a short program that prints the numbers 1 to 10 using a for loop. Then write an equivalent program that prints the numbers 1 to 10 using a while loop.\n",
    "for_loop = [print(i) for i in range(1,11)]\n",
    "i=1\n",
    "while i<11:\n",
    "    print(i)\n",
    "    i+=1"
   ]
  },
  {
   "cell_type": "markdown",
   "id": "ab520471-c0a8-4e23-994c-a48d993d56d5",
   "metadata": {},
   "source": [
    "#13. If you had a function named bacon() inside a module named spam, how would you call it after importing spam?\n",
    "    \n",
    "    Answer:\n",
    "    import spam\n",
    "    spam.bacon(arg1,arg2,...)"
   ]
  },
  {
   "cell_type": "code",
   "execution_count": null,
   "id": "d5e7fa51-c481-4246-a70c-5de4394b7ef8",
   "metadata": {},
   "outputs": [],
   "source": []
  }
 ],
 "metadata": {
  "kernelspec": {
   "display_name": "learn",
   "language": "python",
   "name": "learn"
  },
  "language_info": {
   "codemirror_mode": {
    "name": "ipython",
    "version": 3
   },
   "file_extension": ".py",
   "mimetype": "text/x-python",
   "name": "python",
   "nbconvert_exporter": "python",
   "pygments_lexer": "ipython3",
   "version": "3.11.5"
  }
 },
 "nbformat": 4,
 "nbformat_minor": 5
}
