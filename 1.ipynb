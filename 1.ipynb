{
 "cells": [
  {
   "cell_type": "markdown",
   "id": "4c44e739-db0c-42d8-9ecf-78d6b1271f66",
   "metadata": {},
   "source": [
    "1. In the below elements which of them are values or an expression? eg:- values can be integer or string and expressions will be mathematical operators.\r",
    "Anwer: \n",
    "*= operator \r\n",
    "'hell = valueso'\r\n",
    "-8 = values7.8= operator\r\n",
    "-= operator \r\n",
    "= operator/ \r",
    "=values\n",
    "+\t\r\n",
    "6 \r\n",
    "\r\n",
    "2. What is the difference between string and \n",
    "Anwer:   String is a value which can stored in any particular memory\n",
    "   variable is a name given to a memory location in which any value can be storedva4iable?\r\n",
    "\r\n",
    "3. Describe three different \n",
    "Anwer:    bool\n",
    "   int\n",
    "   float\n",
    "   list\n",
    "   dict\n",
    "   setda6a types.\r\n",
    "\r\n",
    "4. What is an expression made up of? What do all ex\n",
    "Anwer:   expression is made up of values and variables and operators which aims for evaluation whithout assignmentp8essions do?\r\n",
    "5. This assignment statements, like spam = 10. What is the difference between an expression an\n",
    "Anwer:   expression is made up of values and variables and operators which aims for evaluation whithout assignment the calaculated value is discarded. whereas as assignment evaluated the expression and stores/assign its value to one or more target/variabled10a statement?\r\n",
    "6. After running the following code, what does the variable bacon contain?\r\n",
    "baco\n",
    "Anwer: 23n 12 22\r\n",
    "bacon + 1\r\n",
    "\r\n",
    "7. What should the values of the following two terms be?\r\n",
    "'spam' + 'sAnswer: 'spam' + 'spamspam' = 'spamspamspam'\n",
    "'spam' * 3 = 'spamspamspam'p13mspam'\r\n",
    "'spam' * 3\r\n",
    "\r\n",
    "8. Why is eggs a valid variable nam\n",
    "Answer: variable name cant start with a digite15while 100 is invalid?\r\n",
    "9. What three functions can be used to get the integer, floating-point number, or st\n",
    "Answer: int(), float(), str()r17g version of a value?\r\n",
    "10. Why does this expression cause an error? How can you fix it?\r\n",
    "'I have e\n",
    "Answer: String cant be concatenated with integer value\n",
    "fix= 'I have eaten ' +str(99) + ' burritos.' or 'I have eaten ' + '99' + ' burritos.'aten ' + 99 + ' burritos.'\r\n",
    "\r\n",
    "\r\n"
   ]
  },
  {
   "cell_type": "markdown",
   "id": "42fdd048-2608-4e4d-a868-aa54f55ce234",
   "metadata": {},
   "source": []
  },
  {
   "cell_type": "code",
   "execution_count": null,
   "id": "17283161-a2be-4a68-a37e-ee59584ff458",
   "metadata": {},
   "outputs": [],
   "source": []
  }
 ],
 "metadata": {
  "kernelspec": {
   "display_name": "learn",
   "language": "python",
   "name": "learn"
  },
  "language_info": {
   "codemirror_mode": {
    "name": "ipython",
    "version": 3
   },
   "file_extension": ".py",
   "mimetype": "text/x-python",
   "name": "python",
   "nbconvert_exporter": "python",
   "pygments_lexer": "ipython3",
   "version": "3.11.5"
  }
 },
 "nbformat": 4,
 "nbformat_minor": 5
}
